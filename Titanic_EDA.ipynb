
{
 "cells": [
  {
   "cell_type": "code",
   "execution_count": 1,
   "metadata": {},
   "outputs": [],
   "source": [
    "# 1. Importing necessary libraries\n",
    "import pandas as pd\n",
    "import matplotlib.pyplot as plt\n",
    "import seaborn as sns\n",
    "\n",
    "# Setting up visualization styles\n",
    "sns.set_style('whitegrid')\n",
    "plt.rcParams['figure.figsize'] = (10, 6)\n",
    "\n",
    "# 2. Loading the dataset\n",
    "df = pd.read_csv('dataset/titanic.csv')\n",
    "\n",
    "# Displaying the first 5 rows of the dataset\n",
    "df.head()\n"
   ]
  },
  {
   "cell_type": "code",
   "execution_count": 2,
   "metadata": {},
   "outputs": [],
   "source": [
    "# 3. Basic Information about Data\n",
    "df.info()  # Structure, null values\n",
    "df.describe()  # Statistical summary of numerical columns\n",
    "df['Survived'].value_counts()  # Check survival distribution\n",
    "df['Pclass'].value_counts()  # Check passenger class distribution\n",
    "df['Sex'].value_counts()  # Check gender distribution\n"
   ]
  },
  {
   "cell_type": "code",
   "execution_count": 3,
   "metadata": {},
   "outputs": [],
   "source": [
    "# 4. Handling Missing Values\n",
    "df.isnull().sum()  # Count missing values in each column\n",
    "\n",
    "# Visualizing missing data\n",
    "sns.heatmap(df.isnull(), cbar=False, cmap='viridis')\n",
    "plt.title('Missing Values Heatmap')\n",
    "plt.show()\n",
    "\n",
    "# Handling missing values\n",
    "df.drop('Cabin', axis=1, inplace=True)  # Drop 'Cabin' due to too many missing\n",
    "df['Age'].fillna(df['Age'].median(), inplace=True)  # Fill missing 'Age' with median\n",
    "df.dropna(subset=['Embarked'], inplace=True)  # Drop rows with missing 'Embarked'\n"
   ]
  },
  {
   "cell_type": "code",
   "execution_count": 4,
   "metadata": {},
   "outputs": [],
   "source": [
    "# 5. Univariate Analysis\n",
    "# Plotting histograms for numerical features\n",
    "df.hist(bins=20, figsize=(20, 15), color='steelblue')\n",
    "plt.suptitle('Distribution of Numerical Features')\n",
    "plt.show()\n",
    "\n",
    "# Boxplots to detect outliers\n",
    "plt.figure(figsize=(10, 6))\n",
    "sns.boxplot(data=df[['Age', 'Fare']])\n",
    "plt.title('Boxplot for Age and Fare')\n",
    "plt.show()\n"
   ]
  },
  {
   "cell_type": "code",
   "execution_count": 5,
   "metadata": {},
   "outputs": [],
   "source": [
    "# 6. Bivariate Analysis\n",
    "# Survival based on Gender\n",
    "sns.countplot(x='Survived', hue='Sex', data=df, palette='Set2')\n",
    "plt.title('Survival Count based on Gender')\n",
    "plt.show()\n",
    "\n",
    "# Survival based on Passenger Class\n",
    "sns.countplot(x='Survived', hue='Pclass', data=df, palette='Set1')\n",
    "plt.title('Survival Count based on Pclass')\n",
    "plt.show()\n",
    "\n",
    "# Fare vs Survival Barplot\n",
    "sns.barplot(x='Survived', y='Fare', data=df, palette='Blues')\n",
    "plt.title('Fare vs Survival')\n",
    "plt.show()\n"
   ]
  },
  {
   "cell_type": "code",
   "execution_count": 6,
   "metadata": {},
   "outputs": [],
   "source": [
    "# 7. Multivariate Analysis\n",
    "# Checking correlations between numerical features\n",
    "correlation = df.corr()\n",
    "\n",
    "# Visualizing correlations using heatmap\n",
    "sns.heatmap(correlation, annot=True, cmap='coolwarm')\n",
    "plt.title('Correlation Heatmap')\n",
    "plt.show()\n",
    "\n",
    "# Pairplot for selected features\n",
    "sns.pairplot(df[['Survived', 'Pclass', 'Sex', 'Age', 'Fare']], hue='Survived', palette='husl')\n",
    "plt.suptitle('Pairplot Analysis', y=1.02)\n",
    "plt.show()\n"
   ]
  },
  {
   "cell_type": "code",
   "execution_count": 7,
   "metadata": {},
   "outputs": [],
   "source": [
    "# 8. Extra Visuals\n",
    "# Pie Chart: Survival Distribution\n",
    "survival_counts = df['Survived'].value_counts()\n",
    "labels = ['Survived', 'Not Survived']\n",
    "plt.pie(survival_counts, labels=labels, autopct='%1.1f%%', startangle=90, colors=['green', 'red'])\n",
    "plt.title('Survival Distribution')\n",
    "plt.show()\n",
    "\n",
    "# Pie Chart: Gender Distribution\n",
    "gender_counts = df['Sex'].value_counts()\n",
    "gender_labels = ['Female', 'Male']\n",
    "plt.pie(gender_counts, labels=gender_labels, autopct='%1.1f%%', startangle=90, colors=['blue', 'orange'])\n",
    "plt.title('Gender Distribution')\n",
    "plt.show()\n"
   ]
  },
  {
   "cell_type": "markdown",
   "metadata": {},
   "source": [
    "# 9. Key Observations:\n",
    "- **Gender**: Females had a higher survival rate compared to males.\n",
    "- **Passenger Class**: Passengers in 1st class had higher survival rates than those in 3rd class.\n",
    "- **Age**: Younger passengers had a better chance of survival.\n",
    "- **Fare**: Passengers who paid higher fares had a higher survival rate.\n",
    "- **Correlations**: Strong correlation between `Fare`, `Pclass`, and `Survived`.\n",
    "\n",
    "---\n",
    "# 10. Summary of Findings:\n",
    "- **Key Insight**: Gender, class, and fare were strong indicators of survival.\n",
    "- The project helped understand how missing data can be handled and the power of visualizing relationships to drive insights.\n"
   ]
  }
 ],
 "metadata": {},
 "nbformat": 4,
 "nbformat_minor": 5
}
